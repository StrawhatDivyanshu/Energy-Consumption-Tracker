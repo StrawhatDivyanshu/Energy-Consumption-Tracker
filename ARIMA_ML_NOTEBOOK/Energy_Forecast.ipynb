{
 "cells": [
  {
   "cell_type": "code",
   "execution_count": 1,
   "id": "9141bf23-cff6-4fc6-99d2-3b28f482fbda",
   "metadata": {},
   "outputs": [],
   "source": [
    "import pandas as pd"
   ]
  },
  {
   "cell_type": "code",
   "execution_count": 2,
   "id": "0a744e60-4d5c-4912-87ea-140fd38be984",
   "metadata": {},
   "outputs": [
    {
     "name": "stdout",
     "output_type": "stream",
     "text": [
      "                    Global_active_power Global_reactive_power  Voltage  \\\n",
      "datetime                                                                 \n",
      "2006-12-16 17:24:00               4.216                 0.418  234.840   \n",
      "2006-12-16 17:25:00               5.360                 0.436  233.630   \n",
      "2006-12-16 17:26:00               5.374                 0.498  233.290   \n",
      "2006-12-16 17:27:00               5.388                 0.502  233.740   \n",
      "2006-12-16 17:28:00               3.666                 0.528  235.680   \n",
      "\n",
      "                    Global_intensity Sub_metering_1 Sub_metering_2  \\\n",
      "datetime                                                             \n",
      "2006-12-16 17:24:00           18.400          0.000          1.000   \n",
      "2006-12-16 17:25:00           23.000          0.000          1.000   \n",
      "2006-12-16 17:26:00           23.000          0.000          2.000   \n",
      "2006-12-16 17:27:00           23.000          0.000          1.000   \n",
      "2006-12-16 17:28:00           15.800          0.000          1.000   \n",
      "\n",
      "                     Sub_metering_3  \n",
      "datetime                             \n",
      "2006-12-16 17:24:00            17.0  \n",
      "2006-12-16 17:25:00            16.0  \n",
      "2006-12-16 17:26:00            17.0  \n",
      "2006-12-16 17:27:00            17.0  \n",
      "2006-12-16 17:28:00            17.0  \n"
     ]
    }
   ],
   "source": [
    "# Load the dataset\n",
    "dataset = pd.read_csv(\n",
    "    r'C:\\Users\\Asus\\OneDrive\\Desktop\\Energy Forecasting ML Model\\household_power_consumption.txt',\n",
    "    sep=';',\n",
    "    header=0,\n",
    "    low_memory=False,\n",
    ")\n",
    "\n",
    "# Combine 'Date' and 'Time' columns into a single 'datetime' column\n",
    "dataset['datetime'] = pd.to_datetime(dataset['Date'] + ' ' + dataset['Time'], dayfirst=True)\n",
    "\n",
    "# Set 'datetime' as the index\n",
    "dataset.set_index('datetime', inplace=True)\n",
    "\n",
    "# Drop 'Date' and 'Time' columns as they are no longer needed\n",
    "dataset.drop(['Date', 'Time'], axis=1, inplace=True)\n",
    "\n",
    "# View the first few rows to check\n",
    "print(dataset.head())\n"
   ]
  },
  {
   "cell_type": "code",
   "execution_count": 3,
   "id": "b9f309bd-b9ed-498c-b400-59f7adf62620",
   "metadata": {},
   "outputs": [],
   "source": [
    "import numpy as np\n",
    "\n",
    "# Replace '?' with NaN\n",
    "dataset.replace('?', np.nan, inplace=True)\n"
   ]
  },
  {
   "cell_type": "code",
   "execution_count": 4,
   "id": "829ea04b-19f1-48b8-8d09-ef7ac854647e",
   "metadata": {},
   "outputs": [],
   "source": [
    "# Fill missing values with the value from the same time one day ago\n",
    "def fill_missing(values):\n",
    "    one_day = 60 * 24  # 1440\n",
    "    for row in range(one_day, values.shape[0]):  # Start from the row after one day\n",
    "        for col in range(values.shape[1]):\n",
    "            if np.isnan(values[row, col]):\n",
    "                values[row, col] = values[row - one_day, col]\n"
   ]
  },
  {
   "cell_type": "code",
   "execution_count": 5,
   "id": "28edf073-cca3-4882-aef2-aeadfbcf1c7e",
   "metadata": {},
   "outputs": [],
   "source": [
    "# Fill missing values in the dataset\n",
    "import numpy as np\n",
    "\n",
    "# Ensure all columns are numeric (convert any non-numeric columns to NaN)\n",
    "dataset = dataset.apply(pd.to_numeric, errors='coerce')\n",
    "\n",
    "# Fill missing values using the fill_missing function\n",
    "fill_missing(dataset.values)\n"
   ]
  },
  {
   "cell_type": "code",
   "execution_count": 6,
   "id": "c3f74d9a-ee52-4817-8edb-c004e9a17603",
   "metadata": {},
   "outputs": [
    {
     "name": "stdout",
     "output_type": "stream",
     "text": [
      "0\n"
     ]
    }
   ],
   "source": [
    "print(np.isnan(dataset.values).sum())  # Should return 0 if all missing values are filled\n"
   ]
  },
  {
   "cell_type": "code",
   "execution_count": 7,
   "id": "428ecf84-085d-45ac-862f-6ccd7872a2c2",
   "metadata": {},
   "outputs": [
    {
     "name": "stdout",
     "output_type": "stream",
     "text": [
      "                     Global_active_power  Global_reactive_power  Voltage  \\\n",
      "datetime                                                                   \n",
      "2006-12-16 17:24:00                4.216                  0.418   234.84   \n",
      "2006-12-16 17:25:00                5.360                  0.436   233.63   \n",
      "2006-12-16 17:26:00                5.374                  0.498   233.29   \n",
      "2006-12-16 17:27:00                5.388                  0.502   233.74   \n",
      "2006-12-16 17:28:00                3.666                  0.528   235.68   \n",
      "\n",
      "                     Global_intensity  Sub_metering_1  Sub_metering_2  \\\n",
      "datetime                                                                \n",
      "2006-12-16 17:24:00              18.4             0.0             1.0   \n",
      "2006-12-16 17:25:00              23.0             0.0             1.0   \n",
      "2006-12-16 17:26:00              23.0             0.0             2.0   \n",
      "2006-12-16 17:27:00              23.0             0.0             1.0   \n",
      "2006-12-16 17:28:00              15.8             0.0             1.0   \n",
      "\n",
      "                     Sub_metering_3  \n",
      "datetime                             \n",
      "2006-12-16 17:24:00            17.0  \n",
      "2006-12-16 17:25:00            16.0  \n",
      "2006-12-16 17:26:00            17.0  \n",
      "2006-12-16 17:27:00            17.0  \n",
      "2006-12-16 17:28:00            17.0  \n"
     ]
    }
   ],
   "source": [
    "print(dataset.head())  # Display the first few rows to confirm changes\n"
   ]
  },
  {
   "cell_type": "code",
   "execution_count": 8,
   "id": "0d73f4cf-0913-4170-a608-5d9b4c031415",
   "metadata": {},
   "outputs": [],
   "source": [
    "# add a column for for the remainder of sub metering\n",
    "values = dataset.values\n",
    "dataset['sub_metering_4'] = (values[:,0] * 1000 / 60) - (values[:,4] + values[:,5] + values[:,6])"
   ]
  },
  {
   "cell_type": "code",
   "execution_count": 9,
   "id": "8f3206ca-5316-4797-bd1a-cf381fd48d0b",
   "metadata": {},
   "outputs": [],
   "source": [
    "# save updated dataset\n",
    "dataset.to_csv('household_power_consumption.csv')"
   ]
  },
  {
   "cell_type": "code",
   "execution_count": 10,
   "id": "bd393e06-594d-471f-8246-2b0fb12b86cc",
   "metadata": {},
   "outputs": [
    {
     "name": "stdout",
     "output_type": "stream",
     "text": [
      "(1442, 8)\n",
      "            Global_active_power  Global_reactive_power    Voltage  \\\n",
      "datetime                                                            \n",
      "2006-12-16             1209.176                 34.922   93552.53   \n",
      "2006-12-17             3390.460                226.006  345725.32   \n",
      "2006-12-18             2203.826                161.792  347373.64   \n",
      "2006-12-19             1666.194                150.942  348479.01   \n",
      "2006-12-20             2225.748                160.998  348923.61   \n",
      "\n",
      "            Global_intensity  Sub_metering_1  Sub_metering_2  Sub_metering_3  \\\n",
      "datetime                                                                       \n",
      "2006-12-16            5180.8             0.0           546.0          4926.0   \n",
      "2006-12-17           14398.6          2033.0          4187.0         13341.0   \n",
      "2006-12-18            9247.2          1063.0          2621.0         14018.0   \n",
      "2006-12-19            7094.0           839.0          7602.0          6197.0   \n",
      "2006-12-20            9313.0             0.0          2648.0         14063.0   \n",
      "\n",
      "            sub_metering_4  \n",
      "datetime                    \n",
      "2006-12-16    14680.933333  \n",
      "2006-12-17    36946.666667  \n",
      "2006-12-18    19028.433333  \n",
      "2006-12-19    13131.900000  \n",
      "2006-12-20    20384.800000  \n"
     ]
    }
   ],
   "source": [
    "from pandas import read_csv\n",
    "\n",
    "# Load the dataset without 'infer_datetime_format'\n",
    "dataset = read_csv('household_power_consumption.csv', header=0, parse_dates=['datetime'], index_col=['datetime'])\n",
    "\n",
    "# Resample the data to daily totals\n",
    "daily_groups = dataset.resample('D')\n",
    "daily_data = daily_groups.sum()\n",
    "\n",
    "# Summarize the data\n",
    "print(daily_data.shape)\n",
    "print(daily_data.head())\n",
    "\n",
    "# Save the resampled data\n",
    "daily_data.to_csv('household_power_consumption_days.csv')\n"
   ]
  },
  {
   "cell_type": "code",
   "execution_count": 11,
   "id": "61797768-4f2e-4045-a1ea-9fb00c910380",
   "metadata": {},
   "outputs": [],
   "source": [
    "# evaluate one or more weekly forecasts against expected values\n",
    "def evaluate_forecasts(actual, predicted):\n",
    "\tscores = list()\n",
    "\t# calculate an RMSE score for each day\n",
    "\tfor i in range(actual.shape[1]):\n",
    "\t\t# calculate mse\n",
    "\t\tmse = mean_squared_error(actual[:, i], predicted[:, i])\n",
    "\t\t# calculate rmse\n",
    "\t\trmse = sqrt(mse)\n",
    "\t\t# store\n",
    "\t\tscores.append(rmse)\n",
    "\t# calculate overall RMSE\n",
    "\ts = 0\n",
    "\tfor row in range(actual.shape[0]):\n",
    "\t\tfor col in range(actual.shape[1]):\n",
    "\t\t\ts += (actual[row, col] - predicted[row, col])**2\n",
    "\tscore = sqrt(s / (actual.shape[0] * actual.shape[1]))\n",
    "\treturn score, scores"
   ]
  },
  {
   "cell_type": "code",
   "execution_count": 12,
   "id": "97af61f0-68cb-4e20-9d55-7e17669f0c56",
   "metadata": {},
   "outputs": [],
   "source": [
    "# split a univariate dataset into train/test sets\n",
    "def split_dataset(data):\n",
    "\t# split into standard weeks\n",
    "\ttrain, test = data[1:-328], data[-328:-6]\n",
    "\t# restructure into windows of weekly data\n",
    "\ttrain = array(split(train, len(train)/7))\n",
    "\ttest = array(split(test, len(test)/7))\n",
    "\treturn train, test"
   ]
  },
  {
   "cell_type": "code",
   "execution_count": 13,
   "id": "3e46eb55-9889-44ee-98ce-5d4921c02dd6",
   "metadata": {},
   "outputs": [
    {
     "name": "stdout",
     "output_type": "stream",
     "text": [
      "(159, 7, 8)\n",
      "3390.46 1309.268\n",
      "(46, 7, 8)\n",
      "2083.454 2197.006\n"
     ]
    }
   ],
   "source": [
    "from numpy import split\n",
    "from numpy import array\n",
    "from pandas import read_csv\n",
    "\n",
    "# split a univariate dataset into train/test sets\n",
    "def split_dataset(data):\n",
    "    # split into standard weeks\n",
    "    train, test = data[1:-328], data[-328:-6]\n",
    "    # restructure into windows of weekly data\n",
    "    train = array(split(train, len(train)/7))\n",
    "    test = array(split(test, len(test)/7))\n",
    "    return train, test\n",
    "\n",
    "# load the new file\n",
    "dataset = read_csv('household_power_consumption_days.csv', header=0, parse_dates=['datetime'], index_col=['datetime'])\n",
    "train, test = split_dataset(dataset.values)\n",
    "\n",
    "# validate train data\n",
    "print(train.shape)\n",
    "print(train[0, 0, 0], train[-1, -1, 0])\n",
    "\n",
    "# validate test\n",
    "print(test.shape)\n",
    "print(test[0, 0, 0], test[-1, -1, 0])\n"
   ]
  },
  {
   "cell_type": "code",
   "execution_count": 14,
   "id": "bf140e62-ee9c-4769-aaf2-950126d6b035",
   "metadata": {},
   "outputs": [],
   "source": [
    "# evaluate a single model\n",
    "def evaluate_model(model_func, train, test):\n",
    "\t# history is a list of weekly data\n",
    "\thistory = [x for x in train]\n",
    "\t# walk-forward validation over each week\n",
    "\tpredictions = list()\n",
    "\tfor i in range(len(test)):\n",
    "\t\t# predict the week\n",
    "\t\tyhat_sequence = model_func(history)\n",
    "\t\t# store the predictions\n",
    "\t\tpredictions.append(yhat_sequence)\n",
    "\t\t# get real observation and add to history for predicting the next week\n",
    "\t\thistory.append(test[i, :])\n",
    "\tpredictions = array(predictions)\n",
    "\t# evaluate predictions days for each week\n",
    "\tscore, scores = evaluate_forecasts(test[:, :, 0], predictions)\n",
    "\treturn score, scores"
   ]
  },
  {
   "cell_type": "code",
   "execution_count": 15,
   "id": "4bd9acee-cab1-4315-981c-9ef97f3623e5",
   "metadata": {},
   "outputs": [],
   "source": [
    "# summarize scores\n",
    "def summarize_scores(name, score, scores):\n",
    "\ts_scores = ', '.join(['%.1f' % s for s in scores])\n",
    "\tprint('%s: [%.3f] %s' % (name, score, s_scores))"
   ]
  },
  {
   "cell_type": "code",
   "execution_count": 16,
   "id": "9001d330-f115-4b6c-b865-84f5aa10eb55",
   "metadata": {},
   "outputs": [],
   "source": [
    "# convert windows of weekly multivariate data into a series of total power\n",
    "def to_series(data):\n",
    "\t# extract just the total power from each week\n",
    "\tseries = [week[:, 0] for week in data]\n",
    "\t# flatten into a single series\n",
    "\tseries = array(series).flatten()\n",
    "\treturn series"
   ]
  },
  {
   "cell_type": "code",
   "execution_count": 17,
   "id": "0db4f378-55a7-41e3-aedb-ba918ff5e60a",
   "metadata": {},
   "outputs": [],
   "source": [
    "# load the new file\n",
    "dataset = read_csv('household_power_consumption_days.csv', header=0, parse_dates=['datetime'], index_col=['datetime'])\n"
   ]
  },
  {
   "cell_type": "code",
   "execution_count": 18,
   "id": "0b522838-60bd-458f-a612-666176265b22",
   "metadata": {},
   "outputs": [],
   "source": [
    "# split into train and test\n",
    "train, test = split_dataset(dataset.values)"
   ]
  },
  {
   "cell_type": "code",
   "execution_count": 19,
   "id": "b4520dbe-7900-4882-a97d-72265555df0e",
   "metadata": {},
   "outputs": [],
   "source": [
    "# convert training data into a series\n",
    "series = to_series(train)"
   ]
  },
  {
   "cell_type": "code",
   "execution_count": 20,
   "id": "fb967d77-0cde-4962-87dc-9509f12064c4",
   "metadata": {},
   "outputs": [
    {
     "data": {
      "image/png": "[encoded data removed]",
      "text/plain": [
       "<Figure size 640x480 with 2 Axes>"
      ]
     },
     "metadata": {},
     "output_type": "display_data"
    }
   ],
   "source": [
    "from matplotlib import pyplot as plt\n",
    "from statsmodels.graphics.tsaplots import plot_acf, plot_pacf\n",
    "\n",
    "# plots\n",
    "plt.figure()\n",
    "lags = 365\n",
    "# acf\n",
    "axis = plt.subplot(2, 1, 1)\n",
    "plot_acf(series, ax=axis, lags=lags)\n",
    "# pacf\n",
    "axis = plt.subplot(2, 1, 2)\n",
    "plot_pacf(series, ax=axis, lags=lags)\n",
    "# show plot\n",
    "plt.show()\n"
   ]
  },
  {
   "cell_type": "code",
   "execution_count": 21,
   "id": "23ebcd41-4035-40a1-96be-f2a0c3be4415",
   "metadata": {},
   "outputs": [],
   "source": [
    "lags = 50"
   ]
  },
  {
   "cell_type": "code",
   "execution_count": 22,
   "id": "b692731f-5096-41cc-b9a2-502173cbc87b",
   "metadata": {},
   "outputs": [],
   "source": [
    "# evaluate a single model\n",
    "def evaluate_model(model_func, train, test):\n",
    "    # history is a list of weekly data\n",
    "    history = [x for x in train]\n",
    "    \n",
    "    # walk-forward validation over each week\n",
    "    predictions = list()\n",
    "    for i in range(len(test)):\n",
    "        # predict the week\n",
    "        yhat_sequence = model_func(history)\n",
    "        # store the predictions\n",
    "        predictions.append(yhat_sequence)\n",
    "        # get real observation and add to history for predicting the next week\n",
    "        history.append(test[i, :])\n",
    "        \n",
    "    predictions = np.array(predictions)\n",
    "    # convert history into a univariate series\n",
    "    series = to_series(history)\n",
    "    \n",
    "    # evaluate predictions days for each week\n",
    "    score, scores = evaluate_forecasts(test[:, :, 0], predictions)\n",
    "    return score, scores\n"
   ]
  },
  {
   "cell_type": "code",
   "execution_count": 61,
   "id": "c061f548-285a-4971-b0d0-5d5a37c7b786",
   "metadata": {},
   "outputs": [
    {
     "name": "stdout",
     "output_type": "stream",
     "text": [
      "                                SARIMAX Results                                \n",
      "===============================================================================\n",
      "Dep. Variable:     Global_active_power   No. Observations:                 1442\n",
      "Model:                  ARIMA(7, 0, 0)   Log Likelihood              -10771.192\n",
      "Date:                 Sun, 12 Jan 2025   AIC                          21560.384\n",
      "Time:                         19:02:05   BIC                          21607.848\n",
      "Sample:                     12-16-2006   HQIC                         21578.101\n",
      "                          - 11-26-2010                                         \n",
      "Covariance Type:                   opg                                         \n",
      "==============================================================================\n",
      "                 coef    std err          z      P>|z|      [0.025      0.975]\n",
      "------------------------------------------------------------------------------\n",
      "const       1567.8391     96.513     16.245      0.000    1378.678    1757.000\n",
      "ar.L1          0.3617      0.020     18.091      0.000       0.323       0.401\n",
      "ar.L2         -0.0144      0.022     -0.648      0.517      -0.058       0.029\n",
      "ar.L3          0.1797      0.023      7.910      0.000       0.135       0.224\n",
      "ar.L4          0.1144      0.021      5.527      0.000       0.074       0.155\n",
      "ar.L5         -0.0540      0.024     -2.280      0.023      -0.100      -0.008\n",
      "ar.L6          0.1347      0.021      6.426      0.000       0.094       0.176\n",
      "ar.L7          0.1515      0.020      7.763      0.000       0.113       0.190\n",
      "sigma2      1.778e+05   5087.031     34.946      0.000    1.68e+05    1.88e+05\n",
      "===================================================================================\n",
      "Ljung-Box (L1) (Q):                   0.29   Jarque-Bera (JB):               561.27\n",
      "Prob(Q):                              0.59   Prob(JB):                         0.00\n",
      "Heteroskedasticity (H):               0.44   Skew:                             0.76\n",
      "Prob(H) (two-sided):                  0.00   Kurtosis:                         5.66\n",
      "===================================================================================\n",
      "\n",
      "Warnings:\n",
      "[1] Covariance matrix calculated using the outer product of gradients (complex-step).\n"
     ]
    }
   ],
   "source": [
    "import pandas as pd\n",
    "from statsmodels.tsa.arima.model import ARIMA\n",
    "\n",
    "# Load the dataset\n",
    "dataset = pd.read_csv('household_power_consumption_days.csv', \n",
    "                      header=0, \n",
    "                      parse_dates=['datetime'], \n",
    "                      index_col='datetime')\n",
    "\n",
    "# Ensure the index is sorted by datetime\n",
    "dataset = dataset.sort_index()\n",
    "\n",
    "# Set the frequency of the datetime index (assuming daily frequency)\n",
    "dataset = dataset.asfreq('D')\n",
    "\n",
    "# Extract the series (assuming you want to use the 'Global_active_power' column)\n",
    "series = dataset['Global_active_power']\n",
    "\n",
    "# Define the model\n",
    "model = ARIMA(series, order=(7, 0, 0))\n",
    "\n",
    "# Fit the model\n",
    "model_fit = model.fit()\n",
    "\n",
    "# Print summary of the model\n",
    "print(model_fit.summary())\n",
    "\n",
    "# save model\n",
    "model_fit.save('model.pkl')\n",
    "\n",
    "#import joblib\n",
    "\n",
    "# Serialize and save the model\n",
    "#joblib.dump(model, 'EnergyForecast_1.sav')"
   ]
  },
  {
   "cell_type": "code",
   "execution_count": 63,
   "id": "1f121dbe-fd4d-43a3-ae7e-cccba6b7a3b7",
   "metadata": {},
   "outputs": [],
   "source": [
    "# make forecast\n",
    "yhat = model_fit.predict(len(series), len(series)+6)"
   ]
  },
  {
   "cell_type": "code",
   "execution_count": 65,
   "id": "a2d26f66-455e-4f63-89ac-592561ff70f6",
   "metadata": {},
   "outputs": [],
   "source": [
    "# arima forecast\n",
    "def arima_forecast(history):\n",
    "\t# convert history into a univariate series\n",
    "\tseries = to_series(history)\n",
    "\t# define the model\n",
    "\tmodel = ARIMA(series, order=(7,0,0))\n",
    "\t# fit the model\n",
    "\tmodel_fit = model.fit()\n",
    "\t# make forecast\n",
    "\tyhat = model_fit.predict(len(series), len(series)+6)\n",
    "\treturn yhat"
   ]
  },
  {
   "cell_type": "code",
   "execution_count": 68,
   "id": "4284e4d0-3449-4053-9775-cb775d0ed0e0",
   "metadata": {},
   "outputs": [
    {
     "name": "stdout",
     "output_type": "stream",
     "text": [
      "arima: [381.301] 393.6, 398.3, 356.2, 377.0, 392.9, 304.8, 433.4\n"
     ]
    },
    {
     "data": {
      "image/png": "[encoded data removed]",
      "text/plain": [
       "<Figure size 640x480 with 1 Axes>"
      ]
     },
     "metadata": {},
     "output_type": "display_data"
    }
   ],
   "source": [
    "# arima forecast\n",
    "from math import sqrt\n",
    "from numpy import split\n",
    "from numpy import array\n",
    "from pandas import read_csv\n",
    "from sklearn.metrics import mean_squared_error\n",
    "from matplotlib import pyplot\n",
    "from statsmodels.tsa.arima.model import ARIMA\n",
    "\n",
    "# split a univariate dataset into train/test sets\n",
    "def split_dataset(data):\n",
    "\t# split into standard weeks\n",
    "\ttrain, test = data[1:-328], data[-328:-6]\n",
    "\t# restructure into windows of weekly data\n",
    "\ttrain = array(split(train, len(train)/7))\n",
    "\ttest = array(split(test, len(test)/7))\n",
    "\treturn train, test\n",
    "\n",
    "# evaluate one or more weekly forecasts against expected values\n",
    "def evaluate_forecasts(actual, predicted):\n",
    "\tscores = list()\n",
    "\t# calculate an RMSE score for each day\n",
    "\tfor i in range(actual.shape[1]):\n",
    "\t\t# calculate mse\n",
    "\t\tmse = mean_squared_error(actual[:, i], predicted[:, i])\n",
    "\t\t# calculate rmse\n",
    "\t\trmse = sqrt(mse)\n",
    "\t\t# store\n",
    "\t\tscores.append(rmse)\n",
    "\t# calculate overall RMSE\n",
    "\ts = 0\n",
    "\tfor row in range(actual.shape[0]):\n",
    "\t\tfor col in range(actual.shape[1]):\n",
    "\t\t\ts += (actual[row, col] - predicted[row, col])**2\n",
    "\tscore = sqrt(s / (actual.shape[0] * actual.shape[1]))\n",
    "\treturn score, scores\n",
    "\n",
    "# summarize scores\n",
    "def summarize_scores(name, score, scores):\n",
    "\ts_scores = ', '.join(['%.1f' % s for s in scores])\n",
    "\tprint('%s: [%.3f] %s' % (name, score, s_scores))\n",
    "\n",
    "# evaluate a single model\n",
    "def evaluate_model(model_func, train, test):\n",
    "\t# history is a list of weekly data\n",
    "\thistory = [x for x in train]\n",
    "\t# walk-forward validation over each week\n",
    "\tpredictions = list()\n",
    "\tfor i in range(len(test)):\n",
    "\t\t# predict the week\n",
    "\t\tyhat_sequence = model_func(history)\n",
    "\t\t# store the predictions\n",
    "\t\tpredictions.append(yhat_sequence)\n",
    "\t\t# get real observation and add to history for predicting the next week\n",
    "\t\thistory.append(test[i, :])\n",
    "\tpredictions = array(predictions)\n",
    "\t# evaluate predictions days for each week\n",
    "\tscore, scores = evaluate_forecasts(test[:, :, 0], predictions)\n",
    "\treturn score, scores\n",
    "\n",
    "# convert windows of weekly multivariate data into a series of total power\n",
    "def to_series(data):\n",
    "\t# extract just the total power from each week\n",
    "\tseries = [week[:, 0] for week in data]\n",
    "\t# flatten into a single series\n",
    "\tseries = array(series).flatten()\n",
    "\treturn series\n",
    "\n",
    "# arima forecast\n",
    "def arima_forecast(history):\n",
    "\t# convert history into a univariate series\n",
    "\tseries = to_series(history)\n",
    "\t# define the model\n",
    "\tmodel = ARIMA(series, order=(7,0,0))\n",
    "\t# fit the model\n",
    "\tmodel_fit = model.fit()\n",
    "\t# make forecast\n",
    "\tyhat = model_fit.predict(len(series), len(series)+6)\n",
    "\treturn yhat\n",
    "\n",
    "# load the new file\n",
    "# load the new file without the deprecated argument\n",
    "dataset = read_csv('household_power_consumption_days.csv', header=0, parse_dates=['datetime'], index_col=['datetime'])\n",
    "# split into train and test\n",
    "train, test = split_dataset(dataset.values)\n",
    "# define the names and functions for the models we wish to evaluate\n",
    "models = dict()\n",
    "models['arima'] = arima_forecast\n",
    "# evaluate each model\n",
    "days = ['sun', 'mon', 'tue', 'wed', 'thr', 'fri', 'sat']\n",
    "for name, func in models.items():\n",
    "\t# evaluate and get scores\n",
    "\tscore, scores = evaluate_model(func, train, test)\n",
    "\t# summarize scores\n",
    "\tsummarize_scores(name, score, scores)\n",
    "\t# plot scores\n",
    "\tpyplot.plot(days, scores, marker='o', label=name)\n",
    "# show plot\n",
    "pyplot.legend()\n",
    "pyplot.show()"
   ]
  },
  {
   "cell_type": "code",
   "execution_count": null,
   "id": "89db67b3-a8e1-41e3-bc84-0447baf4ede4",
   "metadata": {},
   "outputs": [],
   "source": []
  }
 ],
 "metadata": {
  "kernelspec": {
   "display_name": "Python 3 (ipykernel)",
   "language": "python",
   "name": "python3"
  },
  "language_info": {
   "codemirror_mode": {
    "name": "ipython",
    "version": 3
   },
   "file_extension": ".py",
   "mimetype": "text/x-python",
   "name": "python",
   "nbconvert_exporter": "python",
   "pygments_lexer": "ipython3",
   "version": "3.12.7"
  }
 },
 "nbformat": 4,
 "nbformat_minor": 5
}
